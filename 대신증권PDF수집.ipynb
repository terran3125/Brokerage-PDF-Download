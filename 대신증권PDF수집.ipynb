{
 "cells": [
  {
   "cell_type": "markdown",
   "metadata": {},
   "source": [
    "### Library Import"
   ]
  },
  {
   "cell_type": "code",
   "execution_count": 1,
   "metadata": {},
   "outputs": [],
   "source": [
    "import os\n",
    "import time\n",
    "import pandas as pd\n",
    "from tqdm import trange\n",
    "from tqdm import tqdm\n",
    "import glob\n",
    "import re # 정규표현식 지원 모듈\n",
    "import math # total page 올림에 사용\n",
    "\n",
    "from selenium import webdriver\n",
    "from selenium.webdriver.chrome.service import Service\n",
    "from selenium.webdriver.chrome.options import Options\n",
    "from webdriver_manager.chrome import ChromeDriverManager# 크롬 드라이버 자동 업데이트\n",
    "from selenium.webdriver.common.by import By\n",
    "from selenium.webdriver.common.keys import Keys"
   ]
  },
  {
   "cell_type": "markdown",
   "metadata": {},
   "source": [
    "### Chrome Driver Option Setting"
   ]
  },
  {
   "cell_type": "code",
   "execution_count": 2,
   "metadata": {},
   "outputs": [
    {
     "name": "stderr",
     "output_type": "stream",
     "text": [
      "[WDM] - Downloading: 100%|██████████| 6.46M/6.46M [00:01<00:00, 6.20MB/s]\n"
     ]
    }
   ],
   "source": [
    "options = webdriver.ChromeOptions()\n",
    "#options.add_argument('headless')\n",
    "options.add_argument(\"disable-gpu\")\n",
    "options.add_argument(\"lang=ko_KR\") # Korean\n",
    "options.add_argument(\"user-agent=Mozilla/5.0 (Macintosh; Intel Mac OS X 10_12_6) AppleWebKit/537.36 (KHTML, like Gecko) Chrome/61.0.3163.100 Safari/537.36\")\n",
    "options.add_experimental_option(\"prefs\", {\n",
    "  \"download.default_directory\": r\"D:\\brakerage_pdf\\DS투자증권\\기업분석\", # PDF 다운로드 경로 설정\n",
    "  \"download.prompt_for_download\": False,\n",
    "  \"download.directory_upgrade\": True,\n",
    "  \"safebrowsing.enabled\": True\n",
    "})\n",
    "options.add_experimental_option(\"detach\", True) # 브라우저 꺼짐 방지\n",
    "options.add_experimental_option(\"excludeSwitches\", [\"enable-logging\"]) # 불필요한 에러 메시지 없애기\n",
    "service = Service(executable_path=ChromeDriverManager().install())\n",
    "driver = webdriver.Chrome(service=service, options=options)"
   ]
  },
  {
   "cell_type": "code",
   "execution_count": null,
   "metadata": {},
   "outputs": [],
   "source": [
    "driver.get(\"http://www.ds-sec.co.kr/bbs/board.php?bo_table=sub03_02&page=1\")"
   ]
  },
  {
   "cell_type": "code",
   "execution_count": null,
   "metadata": {},
   "outputs": [],
   "source": [
    "os.chdir(r'D:\\brokerage_pdf\\DS투자증권') # 데스크탑"
   ]
  },
  {
   "cell_type": "markdown",
   "metadata": {},
   "source": [
    "### 연습장"
   ]
  },
  {
   "cell_type": "code",
   "execution_count": null,
   "metadata": {},
   "outputs": [],
   "source": [
    "driver.find_element(By.CLASS_NAME, 'bo_v_tit').text # 제목"
   ]
  },
  {
   "cell_type": "code",
   "execution_count": null,
   "metadata": {},
   "outputs": [],
   "source": [
    "driver.find_element(By.CLASS_NAME, 'if_date').text # 작성일"
   ]
  },
  {
   "cell_type": "code",
   "execution_count": null,
   "metadata": {},
   "outputs": [],
   "source": [
    "xpath_button = '//*[@id=\"bo_v_file\"]/ul/li/a/strong' # 리포트 파일명 xpath\n",
    "driver.find_element(By.XPATH, xpath_button).text # 리포트 파일명"
   ]
  },
  {
   "cell_type": "markdown",
   "metadata": {},
   "source": [
    "### 한 사이클 테스트"
   ]
  },
  {
   "cell_type": "code",
   "execution_count": null,
   "metadata": {},
   "outputs": [],
   "source": [
    "total_text = driver.find_element(By.ID, 'bo_list_total').text\n",
    "report_count = int(re.compile(\".*건\").search(total_text).group().strip(\"Total\").strip(\"건\").replace(\",\",\"\").strip())\n",
    "page_count = math.ceil(report_count/15) # 한 페이지에 리포트 15개씩 노출\n",
    "print(\"리포트 개수: \", report_count, '\\n페이지 수: ', page_count)"
   ]
  },
  {
   "cell_type": "code",
   "execution_count": null,
   "metadata": {},
   "outputs": [],
   "source": [
    "def GoToNextPage(current_page) :\n",
    "    if current_page <= 10 : # 1~10 페이지는 규칙이 달라서 따로 지정해줘야 함\n",
    "        if current_page%10 == 1 :\n",
    "            driver.find_element(By.CSS_SELECTOR, '#sub_containner > nav > span > a:nth-child(4)').send_keys(Keys.ENTER) # 1->2\n",
    "        elif current_page%10 == 2 :\n",
    "            driver.find_element(By.CSS_SELECTOR, '#sub_containner > nav > span > a:nth-child(6)').send_keys(Keys.ENTER) # 2->3\n",
    "        elif current_page%10 == 3 :\n",
    "            driver.find_element(By.CSS_SELECTOR, '#sub_containner > nav > span > a:nth-child(7)').send_keys(Keys.ENTER) # 3->4\n",
    "        elif current_page%10 == 4 :\n",
    "            driver.find_element(By.CSS_SELECTOR, '#sub_containner > nav > span > a:nth-child(8)').send_keys(Keys.ENTER) # 4->5\n",
    "        elif current_page%10 == 5 :\n",
    "            driver.find_element(By.CSS_SELECTOR, '#sub_containner > nav > span > a:nth-child(9)').send_keys(Keys.ENTER) # 5->6\n",
    "        elif current_page%10 == 6 :\n",
    "            driver.find_element(By.CSS_SELECTOR, '#sub_containner > nav > span > a:nth-child(10)').send_keys(Keys.ENTER) # 6->7\n",
    "        elif current_page%10 == 7 :\n",
    "            driver.find_element(By.CSS_SELECTOR, '#sub_containner > nav > span > a:nth-child(11)').send_keys(Keys.ENTER) # 7->8\n",
    "        elif current_page%10 == 8 :\n",
    "            driver.find_element(By.CSS_SELECTOR, '#sub_containner > nav > span > a:nth-child(12)').send_keys(Keys.ENTER) # 8->9\n",
    "        elif current_page%10 == 9 :\n",
    "            driver.find_element(By.CSS_SELECTOR, '#sub_containner > nav > span > a:nth-child(13)').send_keys(Keys.ENTER) # 9->10\n",
    "        elif current_page%10 == 0 :\n",
    "            driver.find_element(By.CSS_SELECTOR, '#sub_containner > nav > span > a.pg_page.pg_next').send_keys(Keys.ENTER) # 10->next\n",
    "     \n",
    "    else : # 그 이외의 페이지는 모두 규칙이 동일함\n",
    "        if current_page%10 == 0 :\n",
    "            driver.find_element(By.CSS_SELECTOR, '#sub_containner > nav > span > a:nth-child(6)').send_keys(Keys.ENTER) # 1->2\n",
    "        elif current_page%10 == 1 :\n",
    "            driver.find_element(By.CSS_SELECTOR, '#sub_containner > nav > span > a:nth-child(7)').send_keys(Keys.ENTER) # 2->3\n",
    "        elif current_page%10 == 2 :\n",
    "            driver.find_element(By.CSS_SELECTOR, '#sub_containner > nav > span > a:nth-child(8)').send_keys(Keys.ENTER) # 3->4\n",
    "        elif current_page%10 == 3 :\n",
    "            driver.find_element(By.CSS_SELECTOR, '#sub_containner > nav > span > a:nth-child(9)').send_keys(Keys.ENTER) # 4->5\n",
    "        elif current_page%10 == 4 :\n",
    "            driver.find_element(By.CSS_SELECTOR, '#sub_containner > nav > span > a:nth-child(10)').send_keys(Keys.ENTER) # 5->6\n",
    "        elif current_page%10 == 5 :\n",
    "            driver.find_element(By.CSS_SELECTOR, '#sub_containner > nav > span > a:nth-child(11)').send_keys(Keys.ENTER) # 6->7\n",
    "        elif current_page%10 == 6 :\n",
    "            driver.find_element(By.CSS_SELECTOR, '#sub_containner > nav > span > a:nth-child(12)').send_keys(Keys.ENTER) # 7->8\n",
    "        elif current_page%10 == 7 :\n",
    "            driver.find_element(By.CSS_SELECTOR, '#sub_containner > nav > span > a:nth-child(13)').send_keys(Keys.ENTER) # 8->9\n",
    "        elif current_page%10 == 8 :\n",
    "            driver.find_element(By.CSS_SELECTOR, '#sub_containner > nav > span > a:nth-child(14)').send_keys(Keys.ENTER) # 9->10\n",
    "        elif current_page%10 == 9 :\n",
    "            driver.find_element(By.CSS_SELECTOR, '#sub_containner > nav > span > a.pg_page.pg_next').send_keys(Keys.ENTER) # 10->next"
   ]
  },
  {
   "cell_type": "code",
   "execution_count": null,
   "metadata": {},
   "outputs": [],
   "source": [
    "report_link = []"
   ]
  },
  {
   "cell_type": "code",
   "execution_count": null,
   "metadata": {},
   "outputs": [],
   "source": [
    "for page in range(1, page_count+1) : # 1페이지부터 끝페이지까지\n",
    "    time.sleep(3)\n",
    "    for report in range(1, 16):\n",
    "        # 변수 초기화\n",
    "        title=''; created_date=''; file_name='';\n",
    "\n",
    "        time.sleep(2)\n",
    "        xpath_button = '//*[@id=\"fboardlist\"]/div/table/tbody/tr[%d]/td[2]/div/a'%(report) # 리포트 xpath 추출\n",
    "        driver.find_element(By.XPATH, xpath_button).click() # 리포트 클릭하기기\n",
    "        time.sleep(2)\n",
    "\n",
    "        title = driver.find_element(By.CLASS_NAME, 'bo_v_tit').text # 제목\n",
    "        created_date = driver.find_element(By.CLASS_NAME, 'if_date').text # 작성일\n",
    "        xpath_button = '//*[@id=\"bo_v_file\"]/ul/li/a/strong' # 리포트 파일명 xpath\n",
    "        file_name = driver.find_element(By.XPATH, xpath_button).text # 리포트 파일명\n",
    "\n",
    "        xpath_button = '//*[@id=\"bo_v_file\"]/ul/li/a' # 리포트 PDF 다운로드 버튼 추출\n",
    "        driver.find_element(By.XPATH, xpath_button).click() # 리포트 PDF 다운로드 클릭\n",
    "        \n",
    "        driver.back() # 리포트 목록으로 나오기\n",
    "        driver.execute_script(\"window.scrollTo(0, 700)\")\n",
    "        time.sleep(2)\n",
    "\n",
    "        report_info = {\n",
    "            'title' : title,\n",
    "            'created_date' : created_date,\n",
    "            'file_name' : file_name\n",
    "        }\n",
    "        report_link.append(report_info)\n",
    "\n",
    "    time.sleep(5)\n",
    "    current_page = int(driver.find_element(By.CLASS_NAME, 'pg_current').text)\n",
    "    GoToNextPage(current_page)"
   ]
  },
  {
   "cell_type": "code",
   "execution_count": null,
   "metadata": {},
   "outputs": [],
   "source": [
    "df = pd.DataFrame(report_link)\n",
    "df.head()\n",
    "df.to_csv('DS_firm_analysis.csv', index=False, encoding='utf-8-sig')"
   ]
  },
  {
   "cell_type": "code",
   "execution_count": null,
   "metadata": {},
   "outputs": [],
   "source": []
  },
  {
   "cell_type": "code",
   "execution_count": null,
   "metadata": {},
   "outputs": [],
   "source": []
  }
 ],
 "metadata": {
  "kernelspec": {
   "display_name": "Python 3.9.12 ('base')",
   "language": "python",
   "name": "python3"
  },
  "language_info": {
   "codemirror_mode": {
    "name": "ipython",
    "version": 3
   },
   "file_extension": ".py",
   "mimetype": "text/x-python",
   "name": "python",
   "nbconvert_exporter": "python",
   "pygments_lexer": "ipython3",
   "version": "3.9.12"
  },
  "orig_nbformat": 4,
  "vscode": {
   "interpreter": {
    "hash": "28bca50f14677f5128e5f5b2c486ff56945ed9f793913ce3e2589aa7d9dfcea8"
   }
  }
 },
 "nbformat": 4,
 "nbformat_minor": 2
}
